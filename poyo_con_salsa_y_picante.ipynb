{
  "nbformat": 4,
  "nbformat_minor": 0,
  "metadata": {
    "colab": {
      "provenance": [],
      "name": "poyo_con salsa y picante",
      "include_colab_link": true
    },
    "kernelspec": {
      "name": "python3",
      "display_name": "Python 3"
    },
    "language_info": {
      "name": "python"
    }
  },
  "cells": [
    {
      "cell_type": "markdown",
      "metadata": {
        "id": "view-in-github",
        "colab_type": "text"
      },
      "source": [
        "<a href=\"https://colab.research.google.com/github/alex-corvette/chickenimages/blob/main/poyo_con_salsa_y_picante.ipynb\" target=\"_parent\"><img src=\"https://colab.research.google.com/assets/colab-badge.svg\" alt=\"Open In Colab\"/></a>"
      ]
    },
    {
      "cell_type": "code",
      "execution_count": null,
      "metadata": {
        "id": "6S3GIPbezQEv"
      },
      "outputs": [],
      "source": [
        "#le pide poyo frito con salsa"
      ]
    },
    {
      "cell_type": "code",
      "source": [
        "\n",
        "from IPython.display import display, Image\n",
        "import ipywidgets as widgets\n",
        "from google.colab import files\n",
        "from PIL import Image as PILImage\n",
        "import io\n",
        "\n",
        "# Paso 1: Subir la imagen\n",
        "print(\"Por favor sube la imagen del poyo (ejemplo: poyo.png)\")\n",
        "uploaded = files.upload()\n",
        "\n",
        "# Obtener el nombre del archivo\n",
        "image_name = next(iter(uploaded))\n",
        "image_data = uploaded[image_name]\n",
        "\n",
        "# Cargar imagen en memoria\n",
        "poyo_image = PILImage.open(io.BytesIO(image_data))\n",
        "\n",
        "# Paso 2: Crear un cuadro de texto para ingresar palabra clave\n",
        "input_box = widgets.Text(\n",
        "    value='',\n",
        "    placeholder='Escribe algo...',\n",
        "    description='Entrada:',\n",
        "    disabled=False\n",
        ")\n",
        "\n",
        "# Paso 3: Función para mostrar imagen si se escribe \"poyo\"\n",
        "def on_text_submit(sender):\n",
        "    if input_box.value.lower() == \"poyo\":\n",
        "        display(poyo_image)\n",
        "    else:\n",
        "        print(f'Ingresaste: {input_box.value} (no es \"poyo\")')\n",
        "\n",
        "# Enlazar función al evento de enter\n",
        "input_box.on_submit(on_text_submit)\n",
        "\n",
        "# Mostrar caja de entrada\n",
        "display(input_box)"
      ],
      "metadata": {
        "id": "XO5XWZp11m8H"
      },
      "execution_count": null,
      "outputs": []
    },
    {
      "cell_type": "code",
      "source": [
        "#dark chicken"
      ],
      "metadata": {
        "id": "VifwLDyN0UgR"
      },
      "execution_count": null,
      "outputs": []
    }
  ]
}