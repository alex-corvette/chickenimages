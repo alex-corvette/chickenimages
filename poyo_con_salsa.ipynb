{
  "nbformat": 4,
  "nbformat_minor": 0,
  "metadata": {
    "colab": {
      "provenance": [],
      "include_colab_link": true
    },
    "kernelspec": {
      "name": "python3",
      "display_name": "Python 3"
    },
    "language_info": {
      "name": "python"
    }
  },
  "cells": [
    {
      "cell_type": "markdown",
      "metadata": {
        "id": "view-in-github",
        "colab_type": "text"
      },
      "source": [
        "<a href=\"https://colab.research.google.com/github/alex-corvette/chickenimages/blob/main/poyo_con_salsa.ipynb\" target=\"_parent\"><img src=\"https://colab.research.google.com/assets/colab-badge.svg\" alt=\"Open In Colab\"/></a>"
      ]
    },
    {
      "cell_type": "code",
      "execution_count": null,
      "metadata": {
        "id": "6S3GIPbezQEv"
      },
      "outputs": [],
      "source": [
        "#le pide poyo frito con salsa"
      ]
    },
    {
      "cell_type": "code",
      "source": [
        "#dark chicken"
      ],
      "metadata": {
        "id": "VifwLDyN0UgR"
      },
      "execution_count": null,
      "outputs": []
    }
  ]
}